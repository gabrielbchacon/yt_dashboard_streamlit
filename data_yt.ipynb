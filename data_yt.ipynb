{
 "cells": [
  {
   "cell_type": "code",
   "execution_count": 2,
   "metadata": {},
   "outputs": [],
   "source": [
    "import json\n",
    "import pandas as pd\n",
    "\n",
    "import numpy as np \n",
    "import plotly.graph_objects as go\n",
    "import plotly.express as px\n",
    "from datetime import datetime\n",
    "import streamlit as st\n"
   ]
  },
  {
   "cell_type": "code",
   "execution_count": 3,
   "metadata": {},
   "outputs": [],
   "source": [
    "file = 'cha_con_tech.json'\n",
    "data = None\n",
    "with open(file, 'r') as f:\n",
    "    data = json.load(f)\n",
    "\n",
    "channel_id, stats = data.popitem()\n",
    "channel_stats = stats['channel_statistics']\n",
    "video_stats = stats['video_data']"
   ]
  },
  {
   "cell_type": "code",
   "execution_count": 4,
   "metadata": {},
   "outputs": [
    {
     "data": {
      "text/plain": [
       "{'viewCount': '216',\n",
       " 'subscriberCount': '87',\n",
       " 'hiddenSubscriberCount': False,\n",
       " 'videoCount': '3'}"
      ]
     },
     "execution_count": 4,
     "metadata": {},
     "output_type": "execute_result"
    }
   ],
   "source": [
    "channel_stats"
   ]
  },
  {
   "cell_type": "code",
   "execution_count": 21,
   "metadata": {},
   "outputs": [],
   "source": [
    "sorted_vids = sorted(video_stats.items(), key=lambda item: int(item[1]['viewCount']), reverse=True)\n",
    "stats = []\n",
    "\n",
    "for vid in sorted_vids:\n",
    "    video_id = vid[0]\n",
    "    title = vid[1]['title']\n",
    "    views = vid[1]['viewCount']\n",
    "    likes = vid[1]['likeCount']\n",
    "    duration = vid[1]['duration']\n",
    "    #dislikes = vid[1]['dislikeCount']\n",
    "    thumb_link = vid[1]['thumbnails']['default']['url']\n",
    "    comments = vid[1]['commentCount']\n",
    "    tags = vid[1]['tags']\n",
    "    description = vid[1]['description']\n",
    "    stats.append([video_id, title, views, likes, duration,thumb_link, comments, tags, description])"
   ]
  },
  {
   "cell_type": "code",
   "execution_count": 22,
   "metadata": {},
   "outputs": [
    {
     "data": {
      "text/html": [
       "<div>\n",
       "<style scoped>\n",
       "    .dataframe tbody tr th:only-of-type {\n",
       "        vertical-align: middle;\n",
       "    }\n",
       "\n",
       "    .dataframe tbody tr th {\n",
       "        vertical-align: top;\n",
       "    }\n",
       "\n",
       "    .dataframe thead th {\n",
       "        text-align: right;\n",
       "    }\n",
       "</style>\n",
       "<table border=\"1\" class=\"dataframe\">\n",
       "  <thead>\n",
       "    <tr style=\"text-align: right;\">\n",
       "      <th></th>\n",
       "      <th>video_id</th>\n",
       "      <th>title</th>\n",
       "      <th>views</th>\n",
       "      <th>likes</th>\n",
       "      <th>duration</th>\n",
       "      <th>thumb_link</th>\n",
       "      <th>comments</th>\n",
       "      <th>tags</th>\n",
       "      <th>description</th>\n",
       "      <th>minutes</th>\n",
       "      <th>seconds</th>\n",
       "      <th>total_seconds</th>\n",
       "    </tr>\n",
       "  </thead>\n",
       "  <tbody>\n",
       "    <tr>\n",
       "      <th>0</th>\n",
       "      <td>Z32ryK5IguE</td>\n",
       "      <td>CUIDADO! NÃO APRENDA PYTHON SOZINHO ANTES DE V...</td>\n",
       "      <td>115</td>\n",
       "      <td>36</td>\n",
       "      <td>PT7M10S</td>\n",
       "      <td>https://i.ytimg.com/vi/Z32ryK5IguE/default.jpg</td>\n",
       "      <td>15</td>\n",
       "      <td>[APRENDER PYTHON, PYTHON, PORQUE APRENDER PYTHON]</td>\n",
       "      <td>Existem muitas pessoas querendo aprender sozin...</td>\n",
       "      <td>7</td>\n",
       "      <td>10</td>\n",
       "      <td>430</td>\n",
       "    </tr>\n",
       "    <tr>\n",
       "      <th>1</th>\n",
       "      <td>1S-qQ1iGpSw</td>\n",
       "      <td>COMO APRENDER PYTHON SOZINHO DE GRAÇA</td>\n",
       "      <td>53</td>\n",
       "      <td>24</td>\n",
       "      <td>PT11M2S</td>\n",
       "      <td>https://i.ytimg.com/vi/1S-qQ1iGpSw/default.jpg</td>\n",
       "      <td>3</td>\n",
       "      <td>[#python, #aprenderpython]</td>\n",
       "      <td>Muita gente não sabe que é possível aprender P...</td>\n",
       "      <td>11</td>\n",
       "      <td>2</td>\n",
       "      <td>662</td>\n",
       "    </tr>\n",
       "    <tr>\n",
       "      <th>2</th>\n",
       "      <td>VN1sr8TPSE8</td>\n",
       "      <td>APRENDA PYTHON EM 15 MINUTOS SAINDO DO ZERO</td>\n",
       "      <td>48</td>\n",
       "      <td>17</td>\n",
       "      <td>PT18M4S</td>\n",
       "      <td>https://i.ytimg.com/vi/VN1sr8TPSE8/default.jpg</td>\n",
       "      <td>4</td>\n",
       "      <td>[#python, #pythoniniciantes, #pythonaula1]</td>\n",
       "      <td>No vídeo de hoje vou ensinar vocês o básico da...</td>\n",
       "      <td>18</td>\n",
       "      <td>4</td>\n",
       "      <td>1084</td>\n",
       "    </tr>\n",
       "  </tbody>\n",
       "</table>\n",
       "</div>"
      ],
      "text/plain": [
       "      video_id                                              title views likes  \\\n",
       "0  Z32ryK5IguE  CUIDADO! NÃO APRENDA PYTHON SOZINHO ANTES DE V...   115    36   \n",
       "1  1S-qQ1iGpSw              COMO APRENDER PYTHON SOZINHO DE GRAÇA    53    24   \n",
       "2  VN1sr8TPSE8        APRENDA PYTHON EM 15 MINUTOS SAINDO DO ZERO    48    17   \n",
       "\n",
       "  duration                                      thumb_link comments  \\\n",
       "0  PT7M10S  https://i.ytimg.com/vi/Z32ryK5IguE/default.jpg       15   \n",
       "1  PT11M2S  https://i.ytimg.com/vi/1S-qQ1iGpSw/default.jpg        3   \n",
       "2  PT18M4S  https://i.ytimg.com/vi/VN1sr8TPSE8/default.jpg        4   \n",
       "\n",
       "                                                tags  \\\n",
       "0  [APRENDER PYTHON, PYTHON, PORQUE APRENDER PYTHON]   \n",
       "1                         [#python, #aprenderpython]   \n",
       "2         [#python, #pythoniniciantes, #pythonaula1]   \n",
       "\n",
       "                                         description  minutes  seconds  \\\n",
       "0  Existem muitas pessoas querendo aprender sozin...        7       10   \n",
       "1  Muita gente não sabe que é possível aprender P...       11        2   \n",
       "2  No vídeo de hoje vou ensinar vocês o básico da...       18        4   \n",
       "\n",
       "   total_seconds  \n",
       "0            430  \n",
       "1            662  \n",
       "2           1084  "
      ]
     },
     "execution_count": 22,
     "metadata": {},
     "output_type": "execute_result"
    }
   ],
   "source": [
    "df = pd.DataFrame(stats, columns=['video_id', 'title', 'views', 'likes', 'duration','thumb_link', 'comments', 'tags', 'description'])\n",
    "df[['minutes','seconds']] = df['duration'].str.extract(r'PT(\\d+)M(\\d+)S', expand=True).astype('int')\n",
    "df['total_seconds'] = 60*df['minutes'] + df['seconds']\n"
   ]
  },
  {
   "cell_type": "code",
   "execution_count": 28,
   "metadata": {},
   "outputs": [
    {
     "data": {
      "text/plain": [
       "'53'"
      ]
     },
     "execution_count": 28,
     "metadata": {},
     "output_type": "execute_result"
    }
   ],
   "source": [
    "agg_filtered = df[df['title'] == 'COMO APRENDER PYTHON SOZINHO DE GRAÇA']\n",
    "agg_filtered.iloc[0]['views']"
   ]
  },
  {
   "cell_type": "code",
   "execution_count": 20,
   "metadata": {},
   "outputs": [
    {
     "data": {
      "text/plain": [
       "'216'"
      ]
     },
     "execution_count": 20,
     "metadata": {},
     "output_type": "execute_result"
    }
   ],
   "source": [
    "channel_stats['viewCount']"
   ]
  }
 ],
 "metadata": {
  "interpreter": {
   "hash": "7ecb98861a17601576c0036ced14c2a01812c9107945cfe55de48552b1af98de"
  },
  "kernelspec": {
   "display_name": "Python 3.9.12 ('stenv')",
   "language": "python",
   "name": "python3"
  },
  "language_info": {
   "codemirror_mode": {
    "name": "ipython",
    "version": 3
   },
   "file_extension": ".py",
   "mimetype": "text/x-python",
   "name": "python",
   "nbconvert_exporter": "python",
   "pygments_lexer": "ipython3",
   "version": "3.9.12"
  },
  "orig_nbformat": 4
 },
 "nbformat": 4,
 "nbformat_minor": 2
}
